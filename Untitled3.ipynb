{
  "nbformat": 4,
  "nbformat_minor": 0,
  "metadata": {
    "colab": {
      "provenance": [],
      "authorship_tag": "ABX9TyPVUZAtHympU9Cjh9aIkN2s",
      "include_colab_link": true
    },
    "kernelspec": {
      "name": "python3",
      "display_name": "Python 3"
    },
    "language_info": {
      "name": "python"
    }
  },
  "cells": [
    {
      "cell_type": "markdown",
      "metadata": {
        "id": "view-in-github",
        "colab_type": "text"
      },
      "source": [
        "<a href=\"https://colab.research.google.com/github/Fefefefe1/Math-2024-25-Winter/blob/main/Untitled3.ipynb\" target=\"_parent\"><img src=\"https://colab.research.google.com/assets/colab-badge.svg\" alt=\"Open In Colab\"/></a>"
      ]
    },
    {
      "cell_type": "code",
      "execution_count": null,
      "metadata": {
        "id": "JRGJnW0rGP-F"
      },
      "outputs": [],
      "source": []
    },
    {
      "cell_type": "markdown",
      "source": [
        "y=2x+3 and the slope of it is 2 so parallel lines slope should be 2 and the perpendiculer lines slope should be -1/2\n",
        "\n",
        "parallel example is 2x+5\n",
        "perpendiculer example is -1/2x +1"
      ],
      "metadata": {
        "id": "qY27tifdGhZW"
      }
    },
    {
      "cell_type": "markdown",
      "source": [],
      "metadata": {
        "id": "xdk2Ae4lL6kh"
      }
    },
    {
      "cell_type": "markdown",
      "source": [],
      "metadata": {
        "id": "acq41QsoGhN5"
      }
    },
    {
      "cell_type": "code",
      "source": [
        "import numpy as np\n",
        "\n",
        "# Define the coordinates of the two points\n",
        "x1, y1 = 2, 0  # Point A\n",
        "x2, y2 = 0, 3  # Point B\n",
        "\n",
        "\n",
        "# Calculate the slope (m)\n",
        "m = (y2 - y1) / (x2 - x1)\n",
        "\n",
        "# Calculate the y-intercept (c)\n",
        "c = y1 - m * x1  # or c = y2 - m * x2, both will give the same result\n",
        "\n",
        "# Print the equation of the line\n",
        "print(f\"The equation of the line is: y = {m:.2f}x + {c:.2f}\")"
      ],
      "metadata": {
        "colab": {
          "base_uri": "https://localhost:8080/"
        },
        "id": "lCFsQHicNVmL",
        "outputId": "41e4a905-ec33-494f-f174-983c4fab0043"
      },
      "execution_count": 1,
      "outputs": [
        {
          "output_type": "stream",
          "name": "stdout",
          "text": [
            "The equation of the line is: y = -1.50x + 3.00\n"
          ]
        }
      ]
    },
    {
      "cell_type": "markdown",
      "source": [],
      "metadata": {
        "id": "ufk0B-fbNWrb"
      }
    },
    {
      "cell_type": "markdown",
      "source": [
        "import numpy as np\n",
        "\n",
        "# Define the coordinates of the two points\n",
        "x1, y1 = 2, 0  # Point A\n",
        "x2, y2 = 0, 3  # Point B\n",
        "\n",
        "# Calculate the slope (m)\n",
        "m = (y2 - y1) / (x2 - x1)\n",
        "\n",
        "# Calculate the y-intercept (c)\n",
        "c = y1 - m * x1  # or c = y2 - m * x2, both will give the same result\n",
        "\n",
        "# Print the equation of the line\n",
        "print(f\"The equation of the line is: y = {m:.2f}x + {c:.2f}\")\n"
      ],
      "metadata": {
        "id": "shU1U6XPNYg3"
      }
    },
    {
      "cell_type": "code",
      "source": [
        "import numpy as np\n",
        "\n",
        "# Define the coordinates of the two points\n",
        "x1, y1 = 2, 0  # Point A\n",
        "x2, y2 = 0, 3  # Point B\n",
        "\n",
        "# Calculate the slope (m)\n",
        "m = (y2 - y1) / (x2 - x1)\n",
        "\n",
        "# Calculate the y-intercept (c)\n",
        "c = y1 - m * x1  # or c = y2 - m * x2, both will give the same result\n",
        "\n",
        "# Print the equation of the line\n",
        "print(f\"The equation of the line is: y = {m:.2f}x + {c:.2f}\")\n",
        "\n",
        "# Display the solution\n",
        "print(f\"Solution: The equation of the line passing through A({x1}, {y1}) and B({x2}, {y2}) is y = {m:.2f}x + {c:.2f}\")\n"
      ],
      "metadata": {
        "id": "uuaD49SCNYP8"
      },
      "execution_count": null,
      "outputs": []
    },
    {
      "cell_type": "markdown",
      "source": [
        "import numpy as np\n",
        "\n",
        "# Define the coordinates of the two points\n",
        "x1, y1 = 2, 0  # Point A\n",
        "x2, y2 = 0, 3  # Point B\n",
        "\n",
        "# Calculate the slope (m)\n",
        "m = (y2 - y1) / (x2 - x1)\n",
        "\n",
        "# Calculate the y-intercept (c)\n",
        "c = y1 - m * x1  # or c = y2 - m * x2, both will give the same result\n",
        "\n",
        "# Print the equation of the line\n",
        "print(f\"The equation of the line is: y = {m:.2f}x + {c:.2f}\")\n",
        "\n",
        "# Display the solution\n",
        "print(f\"Solution: The equation of the line passing through A({x1}, {y1}) and B({x2}, {y2}) is y = {m:.2f}x + {c:.2f}\")\n"
      ],
      "metadata": {
        "id": "aPQf295lNjj6"
      }
    },
    {
      "cell_type": "markdown",
      "source": [
        "import numpy as np\n",
        "\n",
        "# Define the coefficients of the line equation (ax + by + c = 0)\n",
        "a = 2\n",
        "b = -1\n",
        "c = 3\n",
        "\n",
        "# Define the coordinates of the point\n",
        "x1 = 1\n",
        "y1 = 2\n",
        "\n",
        "# Calculate the distance using the formula\n",
        "distance = abs(a * x1 + b * y1 + c) / np.sqrt(a**2 + b**2)\n",
        "\n",
        "# Print the distance\n",
        "print(f\"The distance from point A({x1}, {y1}) to the line y = {a}x + {c} is: {distance:.2f}\")\n"
      ],
      "metadata": {
        "id": "Z5hRqFXHOUOY"
      }
    },
    {
      "cell_type": "markdown",
      "source": [
        "import numpy as np\n",
        "\n",
        "# Coefficients of the line equation (ax + by + c = 0)\n",
        "a = 1\n",
        "b = 1\n",
        "\n",
        "# Normal vector\n",
        "normal_vector = np.array([a, b])\n",
        "\n",
        "print(\"A vector perpendicular to the line x + y + 1 = 0 is:\", normal_vector)"
      ],
      "metadata": {
        "id": "PiAQcbNAR_k6"
      }
    },
    {
      "cell_type": "markdown",
      "source": [
        "import numpy as np\n",
        "\n",
        "#\n",
        "i = np.array([1, 0])\n",
        "j = np.array([0, 1])\n",
        "\n",
        "\n",
        "v = i + j  \n",
        "\n",
        "print(\"The vector perpendicular to the line x + y + 1 =\n"
      ],
      "metadata": {
        "id": "o_XaM0VCSWa1"
      }
    },
    {
      "cell_type": "markdown",
      "source": [
        "tan(a)"
      ],
      "metadata": {
        "id": "EKnH6HHySoDM"
      }
    }
  ]
}