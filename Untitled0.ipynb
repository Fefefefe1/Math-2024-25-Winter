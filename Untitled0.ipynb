{
  "nbformat": 4,
  "nbformat_minor": 0,
  "metadata": {
    "colab": {
      "provenance": [],
      "authorship_tag": "ABX9TyMH4O0hdeO0BtnhaqTHsSxH",
      "include_colab_link": true
    },
    "kernelspec": {
      "name": "python3",
      "display_name": "Python 3"
    },
    "language_info": {
      "name": "python"
    }
  },
  "cells": [
    {
      "cell_type": "markdown",
      "metadata": {
        "id": "view-in-github",
        "colab_type": "text"
      },
      "source": [
        "<a href=\"https://colab.research.google.com/github/Fefefefe1/Math-2024-25-Winter/blob/main/Untitled0.ipynb\" target=\"_parent\"><img src=\"https://colab.research.google.com/assets/colab-badge.svg\" alt=\"Open In Colab\"/></a>"
      ]
    },
    {
      "cell_type": "markdown",
      "source": [
        "Cnic Curves Exercise"
      ],
      "metadata": {
        "id": "F8vR_9ILW6sS"
      }
    },
    {
      "cell_type": "markdown",
      "source": [
        "Find the equation of a circle with center at point\n",
        "A\n",
        "(\n",
        "1\n",
        ",\n",
        "2\n",
        ")\n",
        " and radius\n",
        "r\n",
        "=\n",
        "3\n",
        "."
      ],
      "metadata": {
        "id": "XGIpUON8XEut"
      }
    },
    {
      "cell_type": "markdown",
      "source": [
        "![image.png](\n",
        "  \n",
        ")"
      ],
      "metadata": {
        "id": "ee9JOwo3Yaeg"
      }
    },
    {
      "source": [
        "import matplotlib.pyplot as plt\n",
        "import numpy as np\n",
        "\n",
        "# Define the center and radius of the circle\n",
        "center_x = 1\n",
        "center_y = 2\n",
        "radius = 3\n",
        "\n",
        "# Create a range of x values for the plot\n",
        "x = np.linspace(center_x - radius, center_x + radius, 100)\n",
        "\n",
        "# Calculate the corresponding y values using the circle equation\n",
        "y = np.sqrt(radius**2 - (x - center_x)**2) + center_y\n",
        "\n",
        "# Plot the circle\n",
        "plt.plot(x, y, 'b-', label='Circle')  # Plot the top half\n",
        "plt.plot(x, -y + 2 * center_y, 'b-')  # Plot the bottom half\n",
        "\n",
        "# Customize the plot\n",
        "plt.xlabel('x')\n",
        "plt.ylabel('y')"
      ],
      "cell_type": "code",
      "metadata": {
        "colab": {
          "base_uri": "https://localhost:8080/",
          "height": 467
        },
        "id": "_aEj94x7XCwG",
        "outputId": "c4dbd00c-aeaf-4a63-cae7-8865adf665d3"
      },
      "execution_count": 2,
      "outputs": [
        {
          "output_type": "execute_result",
          "data": {
            "text/plain": [
              "Text(0, 0.5, 'y')"
            ]
          },
          "metadata": {},
          "execution_count": 2
        },
        {
          "output_type": "display_data",
          "data": {
            "text/plain": [
              "<Figure size 640x480 with 1 Axes>"
            ],
            "image/png": "[encoded data removed]"
          },
          "metadata": {}
        }
      ]
    },
    {
      "cell_type": "markdown",
      "source": [
        "Find the center of the ellipse with the equation\n",
        "x\n",
        "2\n",
        "+\n",
        "4\n",
        "y\n",
        "2\n",
        "−\n",
        "4\n",
        "x\n",
        "−\n",
        "16\n",
        "y\n",
        "+\n",
        "16\n",
        "=\n",
        "0\n",
        "\n"
      ],
      "metadata": {
        "id": "clzWux9rYxGG"
      }
    },
    {
      "source": [
        "import sympy\n",
        "\n",
        "# Define the equation of the ellipse\n",
        "x, y = sympy.symbols('x y')\n",
        "ellipse_equation = x**2 + 4*y**2 - 4*x - 16*y + 16\n",
        "\n",
        "# Complete the square to find the center\n",
        "ellipse_equation = sympy.expand(ellipse_equation)\n",
        "ellipse_equation = sympy.collect(ellipse_equation, x)\n",
        "ellipse_equation = sympy.collect(ellipse_equation, y)\n",
        "\n",
        "# Extract the center coordinates\n",
        "center_x = ellipse_equation.coeff(x, 1) / (-2 * ellipse_equation.coeff(x, 2))\n",
        "center_y = ellipse_equation.coeff(y, 1) / (-2 * ellipse_equation.coeff(y, 2))\n",
        "\n",
        "# Print the center of the ellipse\n",
        "print(f\"Center of the ellipse: ({center_x}, {center_y})\")"
      ],
      "cell_type": "code",
      "metadata": {
        "colab": {
          "base_uri": "https://localhost:8080/"
        },
        "id": "wBokfrdnY0uJ",
        "outputId": "1924be6f-e832-401b-9d08-b089630a8a00"
      },
      "execution_count": 3,
      "outputs": [
        {
          "output_type": "stream",
          "name": "stdout",
          "text": [
            "Center of the ellipse: (2, 2)\n"
          ]
        }
      ]
    },
    {
      "cell_type": "markdown",
      "source": [],
      "metadata": {
        "id": "Y0eS8aNVYe1K"
      }
    },
    {
      "cell_type": "markdown",
      "source": [
        "For the given hyperbola\n",
        "x\n",
        "2\n",
        "−\n",
        "y\n",
        "2\n",
        "=\n",
        "1\n",
        ", find the distance between its branches."
      ],
      "metadata": {
        "id": "PnTKzuw-Y9Kd"
      }
    },
    {
      "source": [
        "import sympy\n",
        "\n",
        "# Define the equation of the ellipse\n",
        "x, y = sympy.symbols('x y')\n",
        "ellipse_equation = x**2 + 4*y**2 - 4*x - 16*y + 16\n",
        "\n",
        "# Complete the square to find the center\n",
        "ellipse_equation = sympy.expand(ellipse_equation)\n",
        "ellipse_equation = sympy.collect(ellipse_equation, x)\n",
        "ellipse_equation = sympy.collect(ellipse_equation, y)\n",
        "\n",
        "# Extract the center coordinates\n",
        "center_x = ellipse_equation.coeff(x, 1) / (-2 * ellipse_equation.coeff(x, 2))\n",
        "center_y = ellipse_equation.coeff(y, 1) / (-2 * ellipse_equation.coeff(y, 2))\n",
        "\n",
        "# Print the center of the ellipse\n",
        "print(f\"Center of the ellipse: ({center_x}, {center_y})\")"
      ],
      "cell_type": "code",
      "metadata": {
        "colab": {
          "base_uri": "https://localhost:8080/"
        },
        "id": "k25dtWQbY-Sm",
        "outputId": "27c07c41-3fd9-44ec-8cf8-fd758ccea09b"
      },
      "execution_count": 4,
      "outputs": [
        {
          "output_type": "stream",
          "name": "stdout",
          "text": [
            "Center of the ellipse: (2, 2)\n"
          ]
        }
      ]
    },
    {
      "cell_type": "markdown",
      "source": [
        "he plane passes through point\n",
        "A\n",
        "(\n",
        "1\n",
        ",\n",
        "2\n",
        ",\n",
        "3\n",
        ")\n",
        " and is parallel to the plane\n",
        "2\n",
        "x\n",
        "+\n",
        "3\n",
        "y\n",
        "+\n",
        "4\n",
        "z\n",
        "=\n",
        "5\n",
        ". Find the equation of the plane.\n"
      ],
      "metadata": {
        "id": "YB2e2lZfZG-C"
      }
    },
    {
      "source": [
        "import numpy as np\n",
        "\n",
        "# Define the point the plane passes through\n",
        "A = np.array([1, 2, 3])\n",
        "\n",
        "# Define the normal vector of the parallel plane\n",
        "normal_vector = np.array([2, 3, 4])\n",
        "\n",
        "# Define a variable for the plane's equation\n",
        "d = -np.dot(normal_vector, A)\n",
        "\n",
        "# Print the equation of the plane\n",
        "print(f\"Equation of the plane: 2x + 3y + 4z + {d} = 0\")"
      ],
      "cell_type": "code",
      "metadata": {
        "id": "ycl2B0noZPEh"
      },
      "execution_count": null,
      "outputs": []
    },
    {
      "cell_type": "markdown",
      "source": [
        "e have two planes\n",
        "2\n",
        "x\n",
        "+\n",
        "3\n",
        "y\n",
        "+\n",
        "4\n",
        "z\n",
        "=\n",
        "5\n",
        " and\n",
        "3\n",
        "x\n",
        "+\n",
        "4\n",
        "y\n",
        "+\n",
        "2\n",
        "z\n",
        "=\n",
        "6\n",
        ". Find the line of intersection of these planes."
      ],
      "metadata": {
        "id": "Jyhy-GgJZPTm"
      }
    }
  ]
}