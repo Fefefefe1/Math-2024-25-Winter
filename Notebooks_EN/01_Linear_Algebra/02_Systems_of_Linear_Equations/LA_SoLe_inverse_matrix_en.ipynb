{
  "cells": [
    {
      "cell_type": "markdown",
      "metadata": {
        "id": "SE6Wu3pXC8ez"
      },
      "source": [
        "# Solving Systems of Linear Equations Using the Inverse Matrix Method\n",
        "\n",
        "Converting a system of linear equations to matrix form allows the use of the inverse matrix to find the solution.\n",
        "\n",
        "As an example, consider $A \\cdot X = B$, where the matrix $A_{n \\times n}$ is square and non-singular, and $X$ and $B$ are column matrices:\n",
        "\n",
        "$$\n",
        "X = \\begin{bmatrix} x_1 \\\\ x_2 \\\\ \\vdots \\\\ x_n \\end{bmatrix}, \\qquad B = \\begin{bmatrix} b_1 \\\\ b_2 \\\\ \\vdots \\\\ b_n \\end{bmatrix}\n",
        "$$\n",
        "\n",
        "The solution of the system can be found by multiplying the inverse of $A$ by $B$ on the left side:\n",
        "\n",
        "$$(A^{-1} \\cdot A) \\cdot X = A^{-1} \\cdot B$$\n",
        "\n",
        "$$1 \\cdot X = A^{-1} \\cdot B$$\n",
        "\n",
        "$$X = A^{-1} \\cdot B$$\n",
        "\n",
        "**Example**\n",
        "\n",
        "Consider the system of equations:\n",
        "\n",
        "$$\n",
        "\\begin{cases}\n",
        "x + 2z = 3, \\\\\n",
        "2x + 3y + z = 0, \\\\\n",
        "x + 3z = 1.\n",
        "\\end{cases}\n",
        "$$\n",
        "\n",
        "First, write the system of equations in matrix form:\n",
        "\n",
        "$$\n",
        "\\begin{cases}\n",
        "1 \\cdot x + 0 \\cdot y + 2 \\cdot z = 3, \\\\\n",
        "2 \\cdot x + 3 \\cdot y + 1 \\cdot z = 0, \\\\\n",
        "1 \\cdot x + 0 \\cdot y + 3 \\cdot z = 1.\n",
        "\\end{cases}\n",
        "$$\n",
        "\n",
        "$$\n",
        "\\begin{bmatrix}\n",
        "1 & 0 & 2 \\\\\n",
        "2 & 3 & 1 \\\\\n",
        "1 & 0 & 3\n",
        "\\end{bmatrix}\n",
        "\\begin{bmatrix}\n",
        "x \\\\\n",
        "y \\\\\n",
        "z\n",
        "\\end{bmatrix}\n",
        "=\n",
        "\\begin{bmatrix}\n",
        "3 \\\\\n",
        "0 \\\\\n",
        "1\n",
        "\\end{bmatrix}\n",
        "$$\n",
        "\n",
        "Solve the system by multiplying by the inverse matrix (on the correct side!):\n",
        "\n",
        "$$\n",
        "\\begin{bmatrix}\n",
        "x \\\\\n",
        "y \\\\\n",
        "z\n",
        "\\end{bmatrix}\n",
        "=\n",
        "\\begin{bmatrix}\n",
        "1 & 0 & 2 \\\\\n",
        "2 & 3 & 1 \\\\\n",
        "1 & 0 & 3\n",
        "\\end{bmatrix}^{-1}\n",
        "\\begin{bmatrix}\n",
        "3 \\\\\n",
        "0 \\\\\n",
        "1\n",
        "\\end{bmatrix}\n",
        "$$\n",
        "\n",
        "Calculate the inverse matrix:\n",
        "\n",
        "$$\n",
        "\\begin{bmatrix}\n",
        "1 & 0 & 2 \\\\\n",
        "2 & 3 & 1 \\\\\n",
        "1 & 0 & 3\n",
        "\\end{bmatrix}^{-1}\n",
        "=\n",
        "\\begin{bmatrix}\n",
        " 4 &  0 & -2 \\\\\n",
        "-3 &  1 &  1 \\\\\n",
        "-1 &  0 &  1\n",
        "\\end{bmatrix}\n",
        "$$\n",
        "\n",
        "Multiply the matrices:\n",
        "\n",
        "$$\n",
        "\\begin{bmatrix}\n",
        "x \\\\\n",
        "y \\\\\n",
        "z\n",
        "\\end{bmatrix}\n",
        "=\n",
        "\\begin{bmatrix}\n",
        " 4 &  0 & -2 \\\\\n",
        "-3 &  1 &  1 \\\\\n",
        "-1 &  0 &  1\n",
        "\\end{bmatrix}\n",
        "\\begin{bmatrix}\n",
        "3 \\\\\n",
        "0 \\\\\n",
        "1\n",
        "\\end{bmatrix}\n",
        "=\n",
        "\\begin{bmatrix}\n",
        "7 \\\\\n",
        "-4 \\\\\n",
        "-2\n",
        "\\end{bmatrix}\n",
        "$$"
      ]
    },
    {
      "cell_type": "code",
      "execution_count": null,
      "metadata": {
        "id": "xG_idHqnC8e1",
        "outputId": "ae978620-e1f3-4b94-bd67-8e50bdfc0b1f"
      },
      "outputs": [
        {
          "data": {
            "text/latex": [
              "$\\displaystyle \\left[\\begin{matrix}7\\\\-4\\\\-2\\end{matrix}\\right]$"
            ],
            "text/plain": [
              "Matrix([\n",
              "[ 7],\n",
              "[-4],\n",
              "[-2]])"
            ]
          },
          "execution_count": 1,
          "metadata": {},
          "output_type": "execute_result"
        }
      ],
      "source": [
        "# ## Solving Systems of Linear Equations Using the Inverse Matrix Method\n",
        "\n",
        "import sympy as sp\n",
        "\n",
        "# Coefficient matrix\n",
        "A = sp.Matrix([\n",
        "    [1, 0, 2],\n",
        "    [2, 3, 1],\n",
        "    [1, 0, 3]\n",
        "])\n",
        "\n",
        "# Constant terms vector\n",
        "B =  sp.Matrix([\n",
        "    [3],\n",
        "    [0],\n",
        "    [1]\n",
        "])\n",
        "# Inverse matrix\n",
        "A_inv = A.inv()\n",
        "\n",
        "# Solution of the system of equations\n",
        "X = A_inv * B\n",
        "X"
      ]
    },
    {
      "cell_type": "markdown",
      "metadata": {
        "id": "I7uPdbpgC8e1"
      },
      "source": [
        "---\n",
        "\n",
        "## Exercises for Students\n",
        "\n",
        "1. Solve the system of linear equations using the inverse matrix method:\n",
        "\n",
        "$$\n",
        "\\begin{cases}\n",
        "x + 2y + 3z = 5, \\\\\n",
        "2y + 3z = 4, \\\\\n",
        "3z = 3.\n",
        "\\end{cases}\n",
        "$$\n",
        "\n",
        "2. Solve the system of linear equations using the inverse matrix method:\n",
        "\n",
        "$$\n",
        "\\begin{cases}\n",
        "x_1 + 2x_2 + 3x_3 = 41, \\\\\n",
        "4x_1 + 5x_2 + 6x_3 = 93, \\\\\n",
        "7x_1 + 8x_2 + 9x_3 = 145.\n",
        "\\end{cases}\n",
        "$$"
      ]
    },
    {
      "cell_type": "code",
      "source": [
        "import numpy as np\n",
        "\n",
        "# Define the coefficient matrix A and the constant vector b\n",
        "A = np.array([[1, 2, 3], [0, 2, 3], [0, 0, 3]])\n",
        "b = np.array([5, 4, 3])\n",
        "\n",
        "# Calculate the inverse of matrix A\n",
        "A_inv = np.linalg.inv(A)\n",
        "\n",
        "# Solve for x by multiplying the inverse of A with b\n",
        "x = A_inv.dot(b)\n",
        "\n",
        "# Print the solution\n",
        "print(x)"
      ],
      "metadata": {
        "id": "C-VCTSC0DCtQ",
        "outputId": "e6fd54c7-80db-4b57-c43a-4e6d9ccd1c4f",
        "colab": {
          "base_uri": "https://localhost:8080/"
        }
      },
      "execution_count": 2,
      "outputs": [
        {
          "output_type": "stream",
          "name": "stdout",
          "text": [
            "[1.  0.5 1. ]\n"
          ]
        }
      ]
    },
    {
      "cell_type": "markdown",
      "source": [],
      "metadata": {
        "id": "u6s9KNiLDG-K"
      }
    },
    {
      "cell_type": "code",
      "source": [
        "import numpy as np\n",
        "\n",
        "# Define the coefficient matrix A and the constant vector b\n",
        "A = np.array([[1, 2, 3], [4, 5, 6], [7, 8, 9]])\n",
        "b = np.array([41, 93, 145])\n",
        "\n",
        "# Solve for x using np.linalg.solve\n",
        "x = np.linalg.solve(A, b)  # Use solve instead of inv\n",
        "\n",
        "# Print the solution\n",
        "print(x)"
      ],
      "metadata": {
        "id": "duyAhEYRDZgX",
        "outputId": "3d66bfc9-74ee-443c-d5cf-dc9fc1de9058",
        "colab": {
          "base_uri": "https://localhost:8080/",
          "height": 382
        }
      },
      "execution_count": 4,
      "outputs": [
        {
          "output_type": "error",
          "ename": "LinAlgError",
          "evalue": "Singular matrix",
          "traceback": [
            "\u001b[0;31m---------------------------------------------------------------------------\u001b[0m",
            "\u001b[0;31mLinAlgError\u001b[0m                               Traceback (most recent call last)",
            "\u001b[0;32m<ipython-input-4-1085e296c765>\u001b[0m in \u001b[0;36m<cell line: 8>\u001b[0;34m()\u001b[0m\n\u001b[1;32m      6\u001b[0m \u001b[0;34m\u001b[0m\u001b[0m\n\u001b[1;32m      7\u001b[0m \u001b[0;31m# Solve for x using np.linalg.solve\u001b[0m\u001b[0;34m\u001b[0m\u001b[0;34m\u001b[0m\u001b[0m\n\u001b[0;32m----> 8\u001b[0;31m \u001b[0mx\u001b[0m \u001b[0;34m=\u001b[0m \u001b[0mnp\u001b[0m\u001b[0;34m.\u001b[0m\u001b[0mlinalg\u001b[0m\u001b[0;34m.\u001b[0m\u001b[0msolve\u001b[0m\u001b[0;34m(\u001b[0m\u001b[0mA\u001b[0m\u001b[0;34m,\u001b[0m \u001b[0mb\u001b[0m\u001b[0;34m)\u001b[0m  \u001b[0;31m# Use solve instead of inv\u001b[0m\u001b[0;34m\u001b[0m\u001b[0;34m\u001b[0m\u001b[0m\n\u001b[0m\u001b[1;32m      9\u001b[0m \u001b[0;34m\u001b[0m\u001b[0m\n\u001b[1;32m     10\u001b[0m \u001b[0;31m# Print the solution\u001b[0m\u001b[0;34m\u001b[0m\u001b[0;34m\u001b[0m\u001b[0m\n",
            "\u001b[0;32m/usr/local/lib/python3.10/dist-packages/numpy/linalg/linalg.py\u001b[0m in \u001b[0;36msolve\u001b[0;34m(a, b)\u001b[0m\n\u001b[1;32m    407\u001b[0m     \u001b[0msignature\u001b[0m \u001b[0;34m=\u001b[0m \u001b[0;34m'DD->D'\u001b[0m \u001b[0;32mif\u001b[0m \u001b[0misComplexType\u001b[0m\u001b[0;34m(\u001b[0m\u001b[0mt\u001b[0m\u001b[0;34m)\u001b[0m \u001b[0;32melse\u001b[0m \u001b[0;34m'dd->d'\u001b[0m\u001b[0;34m\u001b[0m\u001b[0;34m\u001b[0m\u001b[0m\n\u001b[1;32m    408\u001b[0m     \u001b[0mextobj\u001b[0m \u001b[0;34m=\u001b[0m \u001b[0mget_linalg_error_extobj\u001b[0m\u001b[0;34m(\u001b[0m\u001b[0m_raise_linalgerror_singular\u001b[0m\u001b[0;34m)\u001b[0m\u001b[0;34m\u001b[0m\u001b[0;34m\u001b[0m\u001b[0m\n\u001b[0;32m--> 409\u001b[0;31m     \u001b[0mr\u001b[0m \u001b[0;34m=\u001b[0m \u001b[0mgufunc\u001b[0m\u001b[0;34m(\u001b[0m\u001b[0ma\u001b[0m\u001b[0;34m,\u001b[0m \u001b[0mb\u001b[0m\u001b[0;34m,\u001b[0m \u001b[0msignature\u001b[0m\u001b[0;34m=\u001b[0m\u001b[0msignature\u001b[0m\u001b[0;34m,\u001b[0m \u001b[0mextobj\u001b[0m\u001b[0;34m=\u001b[0m\u001b[0mextobj\u001b[0m\u001b[0;34m)\u001b[0m\u001b[0;34m\u001b[0m\u001b[0;34m\u001b[0m\u001b[0m\n\u001b[0m\u001b[1;32m    410\u001b[0m \u001b[0;34m\u001b[0m\u001b[0m\n\u001b[1;32m    411\u001b[0m     \u001b[0;32mreturn\u001b[0m \u001b[0mwrap\u001b[0m\u001b[0;34m(\u001b[0m\u001b[0mr\u001b[0m\u001b[0;34m.\u001b[0m\u001b[0mastype\u001b[0m\u001b[0;34m(\u001b[0m\u001b[0mresult_t\u001b[0m\u001b[0;34m,\u001b[0m \u001b[0mcopy\u001b[0m\u001b[0;34m=\u001b[0m\u001b[0;32mFalse\u001b[0m\u001b[0;34m)\u001b[0m\u001b[0;34m)\u001b[0m\u001b[0;34m\u001b[0m\u001b[0;34m\u001b[0m\u001b[0m\n",
            "\u001b[0;32m/usr/local/lib/python3.10/dist-packages/numpy/linalg/linalg.py\u001b[0m in \u001b[0;36m_raise_linalgerror_singular\u001b[0;34m(err, flag)\u001b[0m\n\u001b[1;32m    110\u001b[0m \u001b[0;34m\u001b[0m\u001b[0m\n\u001b[1;32m    111\u001b[0m \u001b[0;32mdef\u001b[0m \u001b[0m_raise_linalgerror_singular\u001b[0m\u001b[0;34m(\u001b[0m\u001b[0merr\u001b[0m\u001b[0;34m,\u001b[0m \u001b[0mflag\u001b[0m\u001b[0;34m)\u001b[0m\u001b[0;34m:\u001b[0m\u001b[0;34m\u001b[0m\u001b[0;34m\u001b[0m\u001b[0m\n\u001b[0;32m--> 112\u001b[0;31m     \u001b[0;32mraise\u001b[0m \u001b[0mLinAlgError\u001b[0m\u001b[0;34m(\u001b[0m\u001b[0;34m\"Singular matrix\"\u001b[0m\u001b[0;34m)\u001b[0m\u001b[0;34m\u001b[0m\u001b[0;34m\u001b[0m\u001b[0m\n\u001b[0m\u001b[1;32m    113\u001b[0m \u001b[0;34m\u001b[0m\u001b[0m\n\u001b[1;32m    114\u001b[0m \u001b[0;32mdef\u001b[0m \u001b[0m_raise_linalgerror_nonposdef\u001b[0m\u001b[0;34m(\u001b[0m\u001b[0merr\u001b[0m\u001b[0;34m,\u001b[0m \u001b[0mflag\u001b[0m\u001b[0;34m)\u001b[0m\u001b[0;34m:\u001b[0m\u001b[0;34m\u001b[0m\u001b[0;34m\u001b[0m\u001b[0m\n",
            "\u001b[0;31mLinAlgError\u001b[0m: Singular matrix"
          ]
        }
      ]
    }
  ],
  "metadata": {
    "kernelspec": {
      "display_name": "Python 3",
      "language": "python",
      "name": "python3"
    },
    "language_info": {
      "codemirror_mode": {
        "name": "ipython",
        "version": 3
      },
      "file_extension": ".py",
      "mimetype": "text/x-python",
      "name": "python",
      "nbconvert_exporter": "python",
      "pygments_lexer": "ipython3",
      "version": "3.11.9"
    },
    "colab": {
      "provenance": []
    }
  },
  "nbformat": 4,
  "nbformat_minor": 0
}