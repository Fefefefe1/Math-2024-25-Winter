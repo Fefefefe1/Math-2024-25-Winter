{
  "cells": [
    {
      "cell_type": "markdown",
      "metadata": {
        "id": "veZjeFp9BtMc"
      },
      "source": [
        "# Gaussian Elimination Method\n",
        "\n",
        "Solving a system of linear equations using the Gaussian elimination method involves transforming the coefficient matrix of the system into an upper triangular matrix, followed by solving the system using back substitution.\n",
        "\n",
        "This is one of the most fundamental methods for solving systems of linear equations, especially in cases where the number of unknowns is different from the number of equations."
      ]
    },
    {
      "cell_type": "code",
      "execution_count": null,
      "metadata": {
        "id": "pFhz_h-KBtMd",
        "outputId": "3ea5ee69-6c17-4493-ad71-a64bd96161a8"
      },
      "outputs": [
        {
          "data": {
            "text/markdown": [
              "**Initial equations:**"
            ],
            "text/plain": [
              "<IPython.core.display.Markdown object>"
            ]
          },
          "metadata": {},
          "output_type": "display_data"
        },
        {
          "data": {
            "text/markdown": [
              "System of equations:"
            ],
            "text/plain": [
              "<IPython.core.display.Markdown object>"
            ]
          },
          "metadata": {},
          "output_type": "display_data"
        },
        {
          "data": {
            "text/markdown": [
              "$$\\begin{aligned} 1 x_{1} + 2 x_{2} + 3 x_{3} = 10 \\\\ 4 x_{1} + 5 x_{2} + 6 x_{3} = 11 \\\\ 7 x_{1} + 8 x_{2} + 12 x_{3} = 18 \\end{aligned}$$"
            ],
            "text/plain": [
              "<IPython.core.display.Markdown object>"
            ]
          },
          "metadata": {},
          "output_type": "display_data"
        }
      ],
      "source": [
        "from sympy import Matrix, symbols, Eq, latex\n",
        "from IPython.display import display, Markdown\n",
        "import sympy as sp\n",
        "\n",
        "class SymbolicMatrix:\n",
        "    def __init__(self, matrix, column_labels=None, free_terms=None, display_mode=\"table\"):\n",
        "        self.matrix = Matrix(matrix)\n",
        "        self.operations = []\n",
        "        self.display_mode = display_mode\n",
        "\n",
        "        if column_labels:\n",
        "            if len(column_labels) != self.matrix.cols:\n",
        "                raise ValueError(\"The number of column labels must be equal to the number of columns in the matrix.\")\n",
        "            self.column_labels = column_labels\n",
        "        else:\n",
        "            self.column_labels = [f\"x{i+1}\" for i in range(self.matrix.cols)]\n",
        "\n",
        "        if free_terms:\n",
        "            if len(free_terms) != self.matrix.rows:\n",
        "                raise ValueError(\"The number of free terms must be equal to the number of rows in the matrix.\")\n",
        "            self.free_terms = free_terms\n",
        "        else:\n",
        "            self.free_terms = [0 for _ in range(self.matrix.rows)]\n",
        "\n",
        "        display(Markdown(\"**Initial equations:**\"))\n",
        "        self.display_matrix()\n",
        "\n",
        "    def set_display_mode(self, mode):\n",
        "        if mode not in [\"table\", \"equations\"]:\n",
        "            raise ValueError(\"Display mode must be 'table' or 'equations'.\")\n",
        "        self.display_mode = mode\n",
        "\n",
        "    def display_matrix(self):\n",
        "        if self.display_mode == \"table\":\n",
        "            self._display_table()\n",
        "        elif self.display_mode == \"equations\":\n",
        "            self._display_equations()\n",
        "\n",
        "    def _display_table(self):\n",
        "        matrix_with_free_terms = self.matrix.row_join(Matrix(self.free_terms))\n",
        "        headers = self.column_labels + [\"Free term\"]\n",
        "        display(Markdown(self._matrix_to_markdown(matrix_with_free_terms, headers)))\n",
        "\n",
        "    def _matrix_to_markdown(self, matrix, headers):\n",
        "        markdown_str = \"| \" + \" | \".join(headers) + \" |\\n\"\n",
        "        markdown_str += \"| \" + \" | \".join([\"---\"] * len(headers)) + \" |\\n\"\n",
        "        for i in range(matrix.rows):\n",
        "            row = [str(matrix[i, j]) for j in range(matrix.cols)]\n",
        "            markdown_str += \"| \" + \" | \".join(row) + \" |\\n\"\n",
        "        return markdown_str\n",
        "\n",
        "    def _display_equations(self):\n",
        "        equations = []\n",
        "        for i in range(self.matrix.rows):\n",
        "            terms = []\n",
        "            for j in range(self.matrix.cols):\n",
        "                coef = self.matrix[i, j]\n",
        "                var = symbols(self.column_labels[j])\n",
        "\n",
        "                # Check if the coefficient is positive, negative, or zero\n",
        "                if coef > 0:\n",
        "                    if j == 0:\n",
        "                        terms.append(f\"{latex(coef)} {latex(var)}\")\n",
        "                    else:\n",
        "                        terms.append(f\"+ {latex(coef)} {latex(var)}\")\n",
        "                elif coef < 0:\n",
        "                    terms.append(f\"- {latex(abs(coef))} {latex(var)}\")\n",
        "                elif coef == 0:\n",
        "                    if j == 0:\n",
        "                        terms.append(f\"0 {latex(var)}\")\n",
        "                    else:\n",
        "                        terms.append(f\"+0 {latex(var)}\")\n",
        "\n",
        "            lhs = \" \".join(terms)\n",
        "            rhs = latex(self.free_terms[i])\n",
        "\n",
        "            equation = f\"{lhs} = {rhs}\"\n",
        "            equations.append(equation)\n",
        "\n",
        "        display(Markdown(\"System of equations:\"))\n",
        "        display(Markdown(f\"$$\\\\begin{{aligned}} {self._equations_to_latex(equations)} \\\\end{{aligned}}$$\"))\n",
        "\n",
        "    def _equations_to_latex(self, equations):\n",
        "        return \" \\\\\\\\ \".join(equations)\n",
        "\n",
        "    def add_row(self, target_row, source_row, coefficient):\n",
        "        target_idx = self._validate_row_number(target_row)\n",
        "        source_idx = self._validate_row_number(source_row)\n",
        "\n",
        "        # Operation on the matrix\n",
        "        self.matrix.row_op(target_idx, lambda v, j: v + coefficient * self.matrix[source_idx, j])\n",
        "\n",
        "        # Operation on the free terms\n",
        "        self.free_terms[target_idx] += coefficient * self.free_terms[source_idx]\n",
        "\n",
        "        operation_str = f\"r{target_row} = r{target_row} + {coefficient}*r{source_row}\"\n",
        "        self.operations.append(operation_str)\n",
        "        display(Markdown(f\"**Operation:** {operation_str}\"))\n",
        "        self.display_matrix()\n",
        "\n",
        "    def multiply_row(self, row, coefficient):\n",
        "        row_idx = self._validate_row_number(row)\n",
        "\n",
        "        # Operation on the matrix\n",
        "        self.matrix.row_op(row_idx, lambda v, _: coefficient * v)\n",
        "\n",
        "        # Operation on the free terms\n",
        "        self.free_terms[row_idx] *= coefficient\n",
        "\n",
        "        operation_str = f\"r{row} = {coefficient}*r{row}\"\n",
        "        self.operations.append(operation_str)\n",
        "        display(Markdown(f\"**Operation:** {operation_str}\"))\n",
        "        self.display_matrix()\n",
        "\n",
        "    def swap_rows(self, row1, row2):\n",
        "        row1_idx = self._validate_row_number(row1)\n",
        "        row2_idx = self._validate_row_number(row2)\n",
        "\n",
        "        self.matrix.row_swap(row1_idx, row2_idx)\n",
        "        self.free_terms[row1_idx], self.free_terms[row2_idx] = self.free_terms[row2_idx], self.free_terms[row1_idx]\n",
        "\n",
        "        operation_str = f\"Swap r{row1} <-> r{row2}\"\n",
        "        self.operations.append(operation_str)\n",
        "        display(Markdown(f\"**Operation:** {operation_str}\"))\n",
        "        self.display_matrix()\n",
        "\n",
        "    def swap_columns(self, col1, col2):\n",
        "        col1_idx = self._validate_col_number(col1)\n",
        "        col2_idx = self._validate_col_number(col2)\n",
        "\n",
        "        self.matrix.col_swap(col1_idx, col2_idx)\n",
        "        self.column_labels[col1_idx], self.column_labels[col2_idx] = self.column_labels[col2_idx], self.column_labels[col1_idx]\n",
        "\n",
        "        operation_str = f\"Swap col{col1} <-> col{col2}\"\n",
        "        self.operations.append(operation_str)\n",
        "        display(Markdown(f\"**Operation:** {operation_str}\"))\n",
        "        self.display_matrix()\n",
        "\n",
        "    def _validate_row_number(self, row):\n",
        "        if not isinstance(row, int):\n",
        "            raise TypeError(\"Row number must be an integer.\")\n",
        "        if row < 1 or row > self.matrix.rows:\n",
        "            raise IndexError(f\"Row number must be between 1 and {self.matrix.rows}.\")\n",
        "        return row - 1\n",
        "\n",
        "    def _validate_col_number(self, col):\n",
        "        if not isinstance(col, int):\n",
        "            raise TypeError(\"Column number must be an integer.\")\n",
        "        if col < 1 or col > self.matrix.cols:\n",
        "            raise IndexError(f\"Column number must be between 1 and {self.matrix.cols}.\")\n",
        "        return col - 1\n",
        "\n",
        "    def print_operations(self):\n",
        "        display(Markdown(\"**Performed operations:**\"))\n",
        "        for op in self.operations:\n",
        "            print(op)\n",
        "\n",
        "# Example usage:\n",
        "m = SymbolicMatrix([[1,2,3], [4,5,6], [7,8,12]], column_labels=[\"x1\", \"x2\", \"x3\"], free_terms=[10, 11, 18], display_mode=\"equations\")\n"
      ]
    },
    {
      "cell_type": "code",
      "execution_count": null,
      "metadata": {
        "id": "UL7lxhJLBtMe",
        "outputId": "79e88d1d-e38d-4a24-f2b5-d765f234af8f"
      },
      "outputs": [
        {
          "data": {
            "text/markdown": [
              "**Operation:** r2 = r2 + -4*r1"
            ],
            "text/plain": [
              "<IPython.core.display.Markdown object>"
            ]
          },
          "metadata": {},
          "output_type": "display_data"
        },
        {
          "data": {
            "text/markdown": [
              "System of equations:"
            ],
            "text/plain": [
              "<IPython.core.display.Markdown object>"
            ]
          },
          "metadata": {},
          "output_type": "display_data"
        },
        {
          "data": {
            "text/markdown": [
              "$$\\begin{aligned} 1 x_{1} + 2 x_{2} + 3 x_{3} = 10 \\\\ 0 x_{1} - 3 x_{2} - 6 x_{3} = -29 \\\\ 7 x_{1} + 8 x_{2} + 12 x_{3} = 18 \\end{aligned}$$"
            ],
            "text/plain": [
              "<IPython.core.display.Markdown object>"
            ]
          },
          "metadata": {},
          "output_type": "display_data"
        }
      ],
      "source": [
        "m.add_row(2, 1, -4)"
      ]
    },
    {
      "cell_type": "code",
      "execution_count": null,
      "metadata": {
        "id": "tkT--9YQBtMe",
        "outputId": "1e5fb81d-0315-4b91-b6a3-7d0e5a3cfb50"
      },
      "outputs": [
        {
          "data": {
            "text/markdown": [
              "**Operation:** r3 = r3 + -7*r1"
            ],
            "text/plain": [
              "<IPython.core.display.Markdown object>"
            ]
          },
          "metadata": {},
          "output_type": "display_data"
        },
        {
          "data": {
            "text/markdown": [
              "System of equations:"
            ],
            "text/plain": [
              "<IPython.core.display.Markdown object>"
            ]
          },
          "metadata": {},
          "output_type": "display_data"
        },
        {
          "data": {
            "text/markdown": [
              "$$\\begin{aligned} 1 x_{1} + 2 x_{2} + 3 x_{3} = 10 \\\\ 0 x_{1} - 3 x_{2} - 6 x_{3} = -29 \\\\ 0 x_{1} - 6 x_{2} - 9 x_{3} = -52 \\end{aligned}$$"
            ],
            "text/plain": [
              "<IPython.core.display.Markdown object>"
            ]
          },
          "metadata": {},
          "output_type": "display_data"
        }
      ],
      "source": [
        "m.add_row(3, 1, -7)"
      ]
    },
    {
      "cell_type": "code",
      "execution_count": null,
      "metadata": {
        "id": "z9u_RqFpBtMf",
        "outputId": "3cf86789-2130-4e56-e532-9bc6121b9505"
      },
      "outputs": [
        {
          "data": {
            "text/markdown": [
              "**Operation:** r3 = r3 + -2*r2"
            ],
            "text/plain": [
              "<IPython.core.display.Markdown object>"
            ]
          },
          "metadata": {},
          "output_type": "display_data"
        },
        {
          "data": {
            "text/markdown": [
              "System of equations:"
            ],
            "text/plain": [
              "<IPython.core.display.Markdown object>"
            ]
          },
          "metadata": {},
          "output_type": "display_data"
        },
        {
          "data": {
            "text/markdown": [
              "$$\\begin{aligned} 1 x_{1} + 2 x_{2} + 3 x_{3} = 10 \\\\ 0 x_{1} - 3 x_{2} - 6 x_{3} = -29 \\\\ 0 x_{1} +0 x_{2} + 3 x_{3} = 6 \\end{aligned}$$"
            ],
            "text/plain": [
              "<IPython.core.display.Markdown object>"
            ]
          },
          "metadata": {},
          "output_type": "display_data"
        }
      ],
      "source": [
        "m.add_row(3, 2, -2)"
      ]
    },
    {
      "cell_type": "code",
      "execution_count": null,
      "metadata": {
        "id": "ZuR9fZmFBtMf"
      },
      "outputs": [],
      "source": [
        "# We have 3 equations, so we end the operation\n",
        "# Define symbols\n",
        "x1, x2, x3 = symbols('x1 x2 x3')\n",
        "# Define equations\n",
        "eq1 = Eq(x1 + 2*x2 + 3*x3, 10)\n",
        "eq2 = Eq(-3*x2 - 6*x3, -29)\n",
        "eq3 = Eq(3*x3, 6)"
      ]
    },
    {
      "cell_type": "code",
      "execution_count": null,
      "metadata": {
        "id": "pqloT7RuBtMf",
        "outputId": "1272e74c-c637-44fe-f008-a8596813f7e9"
      },
      "outputs": [
        {
          "data": {
            "text/latex": [
              "$\\displaystyle 2$"
            ],
            "text/plain": [
              "2"
            ]
          },
          "execution_count": 14,
          "metadata": {},
          "output_type": "execute_result"
        }
      ],
      "source": [
        "sol_x3 = sp.solve(eq3, x3)[0]\n",
        "sol_x3"
      ]
    },
    {
      "cell_type": "code",
      "execution_count": null,
      "metadata": {
        "id": "jvRLOxFkBtMf",
        "outputId": "b20acddb-de2d-4deb-9240-2abf9abb1baa"
      },
      "outputs": [
        {
          "data": {
            "text/latex": [
              "$\\displaystyle \\frac{17}{3}$"
            ],
            "text/plain": [
              "17/3"
            ]
          },
          "execution_count": 15,
          "metadata": {},
          "output_type": "execute_result"
        }
      ],
      "source": [
        "# Substitute solution x3 into equation 2\n",
        "eq2 = eq2.subs(x3, sol_x3)\n",
        "# Solve equation 2\n",
        "sol_x2 = sp.solve(eq2, x2)[0]\n",
        "sol_x2"
      ]
    },
    {
      "cell_type": "code",
      "execution_count": null,
      "metadata": {
        "id": "oubwpf6rBtMf",
        "outputId": "4b2150d1-10b4-49b8-d2ea-3fe37c9e2275"
      },
      "outputs": [
        {
          "data": {
            "text/latex": [
              "$\\displaystyle - \\frac{22}{3}$"
            ],
            "text/plain": [
              "-22/3"
            ]
          },
          "execution_count": 16,
          "metadata": {},
          "output_type": "execute_result"
        }
      ],
      "source": [
        "# Substitute solutions x2 and x3 into equation 1\n",
        "eq1 = eq1.subs({x2: sol_x2, x3: sol_x3})\n",
        "# Solve equation 1\n",
        "sol_x1 = sp.solve(eq1, x1)[0]\n",
        "sol_x1"
      ]
    },
    {
      "cell_type": "markdown",
      "metadata": {
        "id": "RxRPLCpnBtMf"
      },
      "source": [
        "---\n",
        "\n",
        "## Exercises for Students\n",
        "\n",
        "$$\n",
        "\\left\\{\\begin{array}{c}{x+2 y-2 z=4} \\\\ {2 x+y+z=0} \\\\ {3 x+2 y+z=1}\\end{array}\\right.\\quad\n",
        "\\left\\{\\begin{array}{c}{x+y+z-t=2} \\\\ {2 x+y+z=3} \\\\ {-x+z-t=0} \\\\ {3 x+2 y-z+2 t=-1}\\end{array}\\right.\\quad\n",
        "\\left\\{\\begin{array}{c}{x+y-z-t=0} \\\\ {2 x+3 y-2 z+t=4} \\\\ {3 x+5 z=0} \\\\ {-x+y-3 z+2 t=3}\\end{array}\\right.\n",
        "$$"
      ]
    },
    {
      "cell_type": "code",
      "source": [
        "# Define the system of equations\n",
        "equations = [[1, 2, -2], [2, 1, 1], [3, 2, 1]]\n",
        "free_terms = [4, 0, 1]\n",
        "column_labels = [\"x\", \"y\", \"z\"]\n",
        "\n",
        "# Create a SymbolicMatrix object\n",
        "m = SymbolicMatrix(equations, column_labels=column_labels, free_terms=free_terms, display_mode=\"equations\")\n",
        "\n",
        "# Perform Gaussian elimination\n",
        "m.add_row(2, 1, -2)  # Eliminate x from equation 2\n",
        "m.add_row(3, 1, -3)  # Eliminate x from equation 3\n",
        "m.add_row(3, 2, -1)  # Eliminate y from equation 3 #Adjust coefficient here\n",
        "\n",
        "# Define symbols\n",
        "x, y, z = symbols('x y z')\n",
        "\n",
        "# Define equations based on the final matrix form\n",
        "eq1 = Eq(x + 2*y - 2*z, 4)\n",
        "eq2 = Eq(-3*y + 5*z, -8)\n",
        "eq3 = Eq(-7*z, -7) #Adjust coefficient here\n",
        "\n",
        "# Solve for z\n",
        "sol_z = sp.solve(eq3, z)[0]\n",
        "\n",
        "# Substitute z into equation 2 and solve for y\n",
        "eq2 = eq2.subs(z, sol_z)\n",
        "sol_y = sp.solve(eq2, y)[0]\n",
        "\n",
        "# Substitute y and z into equation 1 and solve for x\n",
        "eq1 = eq1.subs({y: sol_y, z: sol_z})\n",
        "sol_x = sp.solve(eq1, x)[0]\n",
        "\n",
        "# Print the solutions\n",
        "print(f\"x = {sol_x}\")\n",
        "print(f\"y = {sol_y}\")\n",
        "print(f\"z = {sol_z}\")"
      ],
      "metadata": {
        "id": "0415TfOdBvov"
      },
      "execution_count": null,
      "outputs": []
    },
    {
      "cell_type": "code",
      "source": [
        "# Define the system of equations\n",
        "equations = [[1, 1, 1, -1], [2, 1, 1, 0], [-1, 0, 1, -1], [3, 2, -1, 2]]\n",
        "free_terms = [2, 3, 0, -1]\n",
        "column_labels = [\"x\", \"y\", \"z\", \"t\"]\n",
        "\n",
        "# Create a SymbolicMatrix object\n",
        "m = SymbolicMatrix(equations, column_labels=column_labels, free_terms=free_terms, display_mode=\"equations\")\n",
        "\n",
        "# Perform Gaussian elimination\n",
        "m.add_row(2, 1, -2)  # Eliminate x from equation 2\n",
        "m.add_row(3, 1, 1)  # Eliminate x from equation 3\n",
        "m.add_row(4, 1, -3)  # Eliminate x from equation 4\n",
        "m.add_row(3, 2, 1)  # Eliminate y from equation 3\n",
        "m.add_row(4, 2, -1)  # Eliminate y from equation 4\n",
        "#Since the third row has 0 for z we swap it to get non-zero coefficient\n",
        "m.swap_rows(3,4)\n",
        "m.multiply_row(3, sp.Rational(-1,4)) #Make the leading coefficient 1\n",
        "m.add_row(4,3,-2) #Eliminate z from equation 4\n",
        "\n",
        "# Define symbols\n",
        "x, y, z, t = symbols('x y z t')\n",
        "\n",
        "# Define equations based on the final matrix form\n",
        "eq1 = Eq(x + y + z - t, 2)\n",
        "eq2 = Eq(-y - z + 2*t, -1)\n",
        "eq3 = Eq(z - (3/sp.Rational(4))*t, -sp.Rational(7,4))\n",
        "eq4 = Eq(sp.Rational(1,2)*t, sp.Rational(1,2))\n",
        "\n",
        "# Solve for t\n",
        "sol_t = sp.solve(eq4, t)[0]\n",
        "\n",
        "# Substitute t into equation 3 and solve for z\n",
        "eq3 = eq3.subs(t, sol_t)\n",
        "sol_z = sp.solve(eq3, z)[0]\n",
        "\n",
        "# Substitute z and t into equation 2 and solve for y\n",
        "eq2 = eq2.subs({z: sol_z, t: sol_t})\n",
        "sol_y = sp.solve(eq2, y)[0]\n",
        "\n",
        "# Substitute y, z, and t into equation 1 and solve for x\n",
        "eq1 = eq1.subs({y: sol_y, z: sol_z, t: sol_t})\n",
        "sol_x = sp.solve(eq1, x)[0]\n",
        "\n",
        "# Print the solutions\n",
        "print(f\"x = {sol_x}\")\n",
        "print(f\"y = {sol_y}\")\n",
        "print(f\"z = {sol_z}\")\n",
        "print(f\"t = {sol_t}\")"
      ],
      "metadata": {
        "id": "1GKuhFF0B9C0"
      },
      "execution_count": null,
      "outputs": []
    },
    {
      "cell_type": "code",
      "source": [
        "# Define the system of equations\n",
        "equations = [[1, 1, -1, -1], [2, 3, -2, 1], [3, 0, 5, 0], [-1, 1, -3, 2]]\n",
        "free_terms = [0, 4, 0, 3]\n",
        "column_labels = [\"x\", \"y\", \"z\", \"t\"]\n",
        "\n",
        "# Create a SymbolicMatrix object\n",
        "m = SymbolicMatrix(equations, column_labels=column_labels, free_terms=free_terms, display_mode=\"equations\")\n",
        "\n",
        "# Perform Gaussian elimination\n",
        "m.add_row(2, 1, -2)  # Eliminate x from equation 2\n",
        "m.add_row(3, 1, -3)  # Eliminate x from equation 3\n",
        "m.add_row(4, 1, 1)  # Eliminate x from equation 4\n",
        "m.add_row(3,2,-1) # Eliminate y from equation 3\n",
        "m.multiply_row(3, sp.Rational(-1,3)) #Make the leading coefficient 1\n",
        "m.add_row(4,2,-2) # Eliminate y from equation 4\n",
        "m.add_row(4,3,-8) # Eliminate z from equation 4\n",
        "\n",
        "# Define symbols\n",
        "x, y, z, t = symbols('x y z t')\n",
        "\n",
        "# Define equations based on the final matrix form\n",
        "eq1 = Eq(x + y - z - t, 0)\n",
        "eq2 = Eq(y + 8*t, -12)\n",
        "eq3 = Eq(z - 3*t, 4)\n",
        "eq4 = Eq(0, 1) # Adjust the constant in this equation if needed\n",
        "\n",
        "# Check for inconsistency\n",
        "if eq4.rhs != 0:\n",
        "  print(\"The system of equations is inconsistent and has no solution.\")\n",
        "else:\n",
        "  # Solve for t (this will likely be a free variable)\n",
        "  # ... (You can choose a value for t or leave it as a parameter)\n",
        "  # Example: Let t = 0\n",
        "  sol_t = 0\n",
        "\n",
        "  # Substitute t into equation 3 and solve for z\n",
        "  eq3 = eq3.subs(t, sol_t)\n",
        "  sol_z = sp.solve(eq3, z)[0]\n",
        "\n",
        "  # Substitute z and t into equation 2 and solve for y\n",
        "  eq2 = eq2.subs({z: sol_z, t: sol_t})\n",
        "  sol_y = sp.solve(eq2, y)[0]\n",
        "\n",
        "  # Substitute y, z, and t into equation 1 and solve for x\n",
        "  eq1 = eq1.subs({y: sol_y, z: sol_z, t: sol_t})\n",
        "  sol_x = sp.solve(eq1, x)[0]\n",
        "\n",
        "  # Print the solutions\n",
        "  print(f\"x = {sol_x}\")\n",
        "  print(f\"y = {sol_y}\")\n",
        "  print(f\"z = {sol_z}\")\n",
        "  print(f\"t = {sol_t}\") # or \"t is a free variable\""
      ],
      "metadata": {
        "id": "6zQkLOe8CGlT"
      },
      "execution_count": null,
      "outputs": []
    }
  ],
  "metadata": {
    "kernelspec": {
      "display_name": ".venv",
      "language": "python",
      "name": "python3"
    },
    "language_info": {
      "codemirror_mode": {
        "name": "ipython",
        "version": 3
      },
      "file_extension": ".py",
      "mimetype": "text/x-python",
      "name": "python",
      "nbconvert_exporter": "python",
      "pygments_lexer": "ipython3",
      "version": "3.11.9"
    },
    "colab": {
      "provenance": []
    }
  },
  "nbformat": 4,
  "nbformat_minor": 0
}